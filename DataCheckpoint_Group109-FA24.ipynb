{
 "cells": [
  {
   "cell_type": "markdown",
   "metadata": {},
   "source": [
    "**If you lost points on the last checkpoint you can get them back by responding to TA/IA feedback**  \n",
    "\n",
    "Update/change the relevant sections where you lost those points, make sure you respond on GitHub Issues to your TA/IA to call their attention to the changes you made here.\n",
    "\n",
    "Please update your Timeline... no battle plan survives contact with the enemy, so make sure we understand how your plans have changed."
   ]
  },
  {
   "cell_type": "markdown",
   "metadata": {},
   "source": [
    "# COGS 108 - Data Checkpoint"
   ]
  },
  {
   "cell_type": "markdown",
   "metadata": {},
   "source": [
    "# Names\n",
    "\n",
    "- Michael He\n",
    "- Felicia Zhang\n",
    "- Dhiren Patel\n",
    "- Sarah Li"
   ]
  },
  {
   "cell_type": "markdown",
   "metadata": {},
   "source": [
    "# Research Question"
   ]
  },
  {
   "cell_type": "markdown",
   "metadata": {},
   "source": [
    "Do national and local job market trends (measured by the number of jobs across the nation and in certain metropolitan areas) influence the selection of majors among undergraduate students at UCSD and other selected universities across the nation? What is more influential, the national or local job market, and which years prior to graduation are most influential on major choice?"
   ]
  },
  {
   "cell_type": "markdown",
   "metadata": {},
   "source": [
    "## Background and Prior Work"
   ]
  },
  {
   "cell_type": "markdown",
   "metadata": {},
   "source": [
    "It can easily be stated that people go to college in order to get a job after graduation. Since the major that students graduate with affect the industry they can work in after graduation, it seems like a natural assumption that the job market has some effect on what subject students choose to major in. \n",
    "\n",
    "Research has been done on similar topics; Baker et. al posits that community college graduates are about 1.5% more likely to choose a major that corresponds with a 1% increase in salary <a name=\"cite_ref-1\"></a>[<sup>1</sup>](#cite_note-1). Utilizing logit models to estimate the probabilities of different major selections and Ordinary Least Squares to model the relationship between major choice, employment security, and salary expectations, the paper concludes that community college students have less access to accurate job market information, and thus mostly consider course enjoyment, while barely considering employment probability. \n",
    "\n",
    "Similarly, Long et. al find that college majors are most strongly tied to salaries from 3 years before graduation (when most students have to choose their major) <a name=\"cite_ref-2\"></a>[<sup>2</sup>](#cite_note-2). Their analysis covered both national and state (Washington) wage and major trends, using regression models to estimate the association between major choice and wage rates from a few years ago. They also used Granger causality tests to measure if previous data on wages were predictive of major choice. \n",
    "\n",
    "Despite there being a lot of research tying the job market to student major choices, we found little research analyzing the effects of employment rates in various industry sectors on major choice. We also aim to analyze a wider range of factors, covering different university locations and university types (public vs. private). This is because we’ve seen some research show that location affects college education, but not necessarily the major distributions at those locations <a name=\"cite_ref-3\"></a>[<sup>3</sup>](#cite_note-3). While we have seen that the job market has significant influence on major choices, we aim to discover the timeframe between the job market and major effects, as well as if the local or national job market has more influence.\n",
    "\n",
    "1. <a name=\"cite_note-1\"></a> [1](#cite_ref-1) Baker, Rachel, et al. The Effect of Labor Market Information on Community College Students’ Major Choice, ScienceDirect, Aug. 2018, [edpolicy.umich.edu/sites/epi/files/uploads/02-2017-labor-market-major-choice.pdf](https://edpolicy.umich.edu/sites/epi/files/uploads/02-2017-labor-market-major-choice.pdf)\n",
    "2. <a name=\"cite_note-2\"></a> [2](#cite_ref-2) Long et. al Do Students’ College Major Choices Respond to Changes in Wages, Calder Center, January 2014, [https://caldercenter.org/sites/default/files/WP-107.pdf](https://caldercenter.org/sites/default/files/WP-107.pdf)\n",
    "3. <a name=\"cite_note-3\"></a> [3](#cite_ref-3) Higdon, Why does college location matter, April 2017, [https://www.northcentral.edu/blog/why-does-college-location-matter/](https://www.northcentral.edu/blog/why-does-college-location-matter/)\n"
   ]
  },
  {
   "cell_type": "markdown",
   "metadata": {},
   "source": [
    "# Hypothesis\n"
   ]
  },
  {
   "cell_type": "markdown",
   "metadata": {},
   "source": [
    "We predict that undergraduate major students are influenced by job market trends, with the strongest correlation between the majors students select and the job market conditions from approximately 4 years prior to when they first enter college. Specifically, we believe that national job market trends, such as wage growth and demand within central industries (e.g., healthcare, technology), will show a strong correlation with the selection of undergraduate majors across the United States. Furthermore, local job market trends, including employment opportunities and industry-specific demand will have a stronger influence on the major selection at universities such as UCSD, where students are more prone to aligning their academic focus with the region’s economic landscape.\n",
    "\n",
    "For this study, we would define major choice as the number of individuals who graduated with the major (or a similar one), and job market trends as the number of jobs in that field. Since our background research shows that factors such as wages affect major choice, it can be assumed that the increased possibility of finding a job in that field (which would lead to the receiving wages in the first place), would also be a factor in people’s major decision. We believe that these two variables would have a positive correlation — as the number of jobs in a certain field increases, so does the number of college students who choose a related major."
   ]
  },
  {
   "cell_type": "markdown",
   "metadata": {},
   "source": [
    "# Data"
   ]
  },
  {
   "cell_type": "markdown",
   "metadata": {},
   "source": [
    "## Data overview\n",
    "\n",
    "- Dataset #1\n",
    "  - Dataset Name: US Bureau of Labor Statistics Occupational Employment and Wage Estimates by Metropolitan and Nonmetropolitan Area (BLS OEWS for short)\n",
    "  - Link to the dataset: [BLS OEWS](https://www.bls.gov/oes/tables.htm)\\\\\n",
    "  Cleaned dataset: [all_year_bls](dataset_work/bls_data/useful_csvs/all_years.csv)\n",
    "  - Number of observations: 74580\n",
    "  - Number of variables: 23\n",
    "- Dataset #2 \n",
    "  - Dataset Name: School Common Data Set Degrees Conferred (CDS for short)\n",
    "  - Link to the dataset: [CDS](https://docs.google.com/spreadsheets/d/19kN52hyig4k--l1GXVEiIQVoSM10L_shYSVXepYsSDM/edit?usp=sharing)\\\\\n",
    "  This is actually a link to a Google Sheet, where you can find the link to each school's CDS\\\\\n",
    "  Cleaned dataset: [all_year_csd](dataset_work/cds_data/useful_csvs/all_years.csv)\n",
    "  - Number of observations: 3092\n",
    "  - Number of variables: 7\n",
    "\n",
    "#### BLS OEWS:\n",
    "This dataset encompasses 2006-2023 employment data by metropolitan/non-metropolitan area. Our cleaned dataset has 8 areas, each of which were chosen because of their proximity to one of the schools we are analyzing. The important variables in the data set are year, location, occupation title (string), total employment (int), and average salary (int), although the other fields we left in the dataset also help with general analysis and classification. The employment count proportion and the salary may be proxies for overall desirability of the job. \n",
    "\n",
    "To clean this dataset, we had to download all the `.xls` and `.xlsx` files from the BLS, convert them to `.csv`s, and then pull only the relevant areas from each year's dataset. Then, to combine the datasets and standardize the columns, some columns were dropped or renamed, leading to the overall dataset. \n",
    "\n",
    "#### CDS:\n",
    "This dataset encompasses 8 US universities, which were chosen for reasons listed in our [Google Sheet](https://docs.google.com/spreadsheets/d/19kN52hyig4k--l1GXVEiIQVoSM10L_shYSVXepYsSDM/edit?usp=sharing). The most limiting university was Colgate University, with the first CDS being from 2014, so the years span from 2014 graduation to 2023 graduation degrees conferred. This gives us a good 10 year window to work with. The important variables in this dataset are year, college, Category (major), and Bachelor's (a percentage of the graduating class). The major percentages may be proxies for the overall desirability of the major. \n",
    "\n",
    "To clean this dataset, we had to download all the `.pdf` files of the CDS from each school. We then created and ran a pdf scraper to pull the Degrees Conferred table from each PDF; there were a few cases where this had to be done manually because of inconsistent formatting or lack of downloadable PDF. Then, to combine the datasets, equivalent columns were combined, leading to the overall dataset.\n",
    "\n",
    "##### Combining\n",
    "To combine these datasets, it's necessary to line up majors at colleges with jobs. This means we will probably use a classifier to fit the jobs in 'OCC-TITLE' to the majors in 'Category'. Then, we can graph the relationships between employment rates and major trends. "
   ]
  },
  {
   "cell_type": "markdown",
   "metadata": {},
   "source": [
    "## BLS OEWS"
   ]
  },
  {
   "cell_type": "code",
   "execution_count": null,
   "metadata": {},
   "outputs": [],
   "source": [
    "# Import necessary libraries\n",
    "\n",
    "import os\n",
    "import pandas as pd"
   ]
  },
  {
   "cell_type": "code",
   "execution_count": null,
   "metadata": {},
   "outputs": [],
   "source": [
    "# Changes all xls files into csv files\n",
    "\n",
    "def xls_x_to_csv(file_path, file_type):\n",
    "    # Read the .xls file\n",
    "    df = pd.read_excel(file_path)\n",
    "    # Define the .csv file path\n",
    "    csv_file_path = file_path.replace(file_type, '.csv')\n",
    "    # Save the dataframe to a .csv file\n",
    "    df.to_csv(csv_file_path, index=False)\n",
    "\n",
    "def all_xls_x_to_csv(bls_data_path):\n",
    "    # Iterate over each year folder in the bls_data folder\n",
    "    for year_folder in os.listdir(bls_data_path):\n",
    "        if year_folder == \"full_processed_csvs\" or year_folder == \"useful_csvs\":\n",
    "            continue\n",
    "        year_path = os.path.join(bls_data_path, year_folder)\n",
    "        if os.path.isdir(year_path):\n",
    "            # Iterate over each .xls file in the year folder\n",
    "            for file in os.listdir(year_path):\n",
    "                if file.endswith('.xls'):\n",
    "                    file_path = os.path.join(year_path, file)\n",
    "                    xls_x_to_csv(file_path, '.xls')\n",
    "                if file.endswith('.xlsx'):\n",
    "                    file_path = os.path.join(year_path, file)\n",
    "                    xls_x_to_csv(file_path, '.xlsx')\n",
    "                    \n",
    "# Uncomment the line below to change all xls and xlsx files into csv files\n",
    "# all_xls_x_to_csv('bls_data')"
   ]
  },
  {
   "cell_type": "code",
   "execution_count": null,
   "metadata": {},
   "outputs": [],
   "source": [
    "# Read through each year of csvs, and get only relevant areas into one csv\n",
    "relevant_areas = [\"Los Angeles-Long Beach-Santa Ana, CA\", \n",
    "\"Los Angeles-Long Beach-Anaheim, CA\", # shifts classification in 2015\n",
    "\"Western New Hampshire nonmetropolitan area\",\n",
    "\"Southwestern New Hampshire nonmetropolitan area\",\n",
    "\"West Central New Hampshire nonmetropolitan area\",\n",
    "\"Southwest New Hampshire nonmetropolitan area\",\n",
    "\"West Central-Southwest New Hampshire nonmetropolitan area\",\n",
    "\"San Diego-Carlsbad-San Marcos, CA\",\n",
    "\"San Diego-Carlsbad, CA\", # shifts classification in 2015\n",
    "\"Ann Arbor, MI\",\n",
    "\"Washington-Arlington-Alexandria, DC-VA-MD-WV Metropolitan Division\",\n",
    "\"Spokane, WA\",\n",
    "\"Spokane-Spokane Valley, WA\", # shifts classification in 2015\n",
    "\"Winston-Salem, NC\",\n",
    "\"Utica-Rome, NY\",\n",
    "]\n",
    "\n",
    "# All the relevant New Hampshire areas:\n",
    "# \"Other New Hampshire nonmetropolitan area\", - this means central - do not use\n",
    "# \"Western New Hampshire nonmetropolitan area\", - use\n",
    "# \"Southwestern New Hampshire nonmetropolitan area\", - use\n",
    "# \"West Central New Hampshire nonmetropolitan area\", - use - 2015\n",
    "# \"Central New Hampshire nonmetropolitan area\", - do not use - 2015\n",
    "# \"Southwest New Hampshire nonmetropolitan area\", - use - 2015\n",
    "# \"West Central-Southwest New Hampshire nonmetropolitan area\", - 2018 combination of west central and southwest - only choice aside from central in 2018 onwards\n",
    "# overall, we'll use West Central-Southwest, while avoiding Central?\n",
    "\n",
    "def process_year(bls_data_path, year_path, relevant_areas, column_name, year_number):\n",
    "    # Create the output directory if it doesn't exist\n",
    "    processed_folder = os.path.join(bls_data_path, \"full_processed_csvs\")\n",
    "    os.makedirs(processed_folder, exist_ok=True)\n",
    "\n",
    "    result_df = pd.DataFrame()\n",
    "\n",
    "    # Iterate through all CSV files in the year folder\n",
    "    for file in os.listdir(year_path):\n",
    "        if file.endswith('.csv'):\n",
    "            file_path = os.path.join(year_path, file)\n",
    "            df = pd.read_csv(file_path)\n",
    "            if column_name in df.columns:\n",
    "                # Filter rows where the column value is in relevant_areas\n",
    "                filtered_df = df[df[column_name].isin(relevant_areas)]\n",
    "                result_df = pd.concat([result_df, filtered_df], ignore_index=True)\n",
    "\n",
    "    # Define the output file path\n",
    "    output_file_path = os.path.join(processed_folder, f\"{year_number}_relevant.csv\")\n",
    "\n",
    "    # Write the filtered DataFrame to the output file\n",
    "    result_df.to_csv(output_file_path, index=False)\n",
    "    print(f\"Processed data saved to {output_file_path}\")\n",
    "\n",
    "def process_all_years(bls_data_path, relevant_areas):\n",
    "    # Iterate over each year folder in the bls_data folder\n",
    "    for year_folder in os.listdir(bls_data_path):\n",
    "        if year_folder == \"full_processed_csvs\" or year_folder == \"useful_csvs\":\n",
    "            continue\n",
    "        year_number = int(year_folder)\n",
    "        year_path = os.path.join(bls_data_path, year_folder)\n",
    "        column_name = ''\n",
    "        if os.path.isdir(year_path):\n",
    "             # AREA_NAME 2006-2018, area_title in 2019, AREA_TITLE onwards\n",
    "            if year_number < 2019:\n",
    "                column_name = 'AREA_NAME'\n",
    "            elif year_number == 2019:\n",
    "                column_name = 'area_title'\n",
    "            elif year_number > 2019:\n",
    "                column_name = 'AREA_TITLE'\n",
    "            else:\n",
    "                print(\"Error: invalid year\")\n",
    "                exit(1)\n",
    "            process_year(bls_data_path, year_path, relevant_areas, column_name, year_number)\n",
    "\n",
    "process_all_years('bls_data', relevant_areas)"
   ]
  },
  {
   "cell_type": "code",
   "execution_count": null,
   "metadata": {},
   "outputs": [],
   "source": [
    "# Format all area names and column names to be consistent, more cleaning done in next step\n",
    "\n",
    "def format_area_names(df):\n",
    "    if 'AREA_NAME' in df.columns:\n",
    "        df.rename(columns={'AREA_NAME': 'AREA_TITLE'}, inplace=True)\n",
    "    df['AREA_TITLE'] = df['AREA_TITLE'].replace(\"Los Angeles-Long Beach-Santa Ana, CA\", \"Los Angeles-Long Beach-Anaheim, CA\")\n",
    "    df['AREA_TITLE'] = df['AREA_TITLE'].replace(\"San Diego-Carlsbad-San Marcos, CA\", \"San Diego-Carlsbad, CA\")\n",
    "    df['AREA_TITLE'] = df['AREA_TITLE'].replace(\"Spokane, WA\", \"Spokane-Spokane Valley, WA\")\n",
    "    df['AREA_TITLE'] = df['AREA_TITLE'].replace(\"Western New Hampshire nonmetropolitan area\", \"West Central-Southwest New Hampshire nonmetropolitan area\")\n",
    "    df['AREA_TITLE'] = df['AREA_TITLE'].replace(\"Southwestern New Hampshire nonmetropolitan area\", \"West Central-Southwest New Hampshire nonmetropolitan area\")\n",
    "    df['AREA_TITLE'] = df['AREA_TITLE'].replace(\"West Central New Hampshire nonmetropolitan area\", \"West Central-Southwest New Hampshire nonmetropolitan area\")\n",
    "    df['AREA_TITLE'] = df['AREA_TITLE'].replace(\"Southwest New Hampshire nonmetropolitan area\", \"West Central-Southwest New Hampshire nonmetropolitan area\")\n",
    "    if 'GROUP' in df.columns:\n",
    "        df.rename(columns={'GROUP': 'OCC_GROUP'}, inplace=True)\n",
    "    elif 'O_GROUP' in df.columns:\n",
    "        df.rename(columns={'O_GROUP': 'OCC_GROUP'}, inplace=True)\n",
    "    if 'LOC QUOTIENT' in df.columns:\n",
    "        df.rename(columns={'LOC QUOTIENT': 'LOC_QUOTIENT'}, inplace=True)\n",
    "    if 'LOC_QUOTIENT' not in df.columns:\n",
    "        df['LOC_QUOTIENT'] = pd.NA\n",
    "    \n",
    "    return df\n",
    "\n",
    "def format_column_names(df):\n",
    "    for column in df.columns:\n",
    "        df.rename(columns={column: column.upper()}, inplace=True)\n",
    "    return df\n",
    "\n",
    "def format_year(file_path):\n",
    "    df = pd.read_csv(file_path)\n",
    "    df = format_column_names(df)\n",
    "    df = format_area_names(df)\n",
    "    df.to_csv(file_path, index=False)\n",
    "\n",
    "def format_all_years(processed_csv_path):\n",
    "    for file in os.listdir(processed_csv_path):\n",
    "        if file.endswith('.csv'):\n",
    "            file_path = os.path.join(processed_csv_path, file)\n",
    "            format_year(file_path)\n",
    "\n",
    "format_all_years('bls_data/full_processed_csvs')"
   ]
  },
  {
   "cell_type": "code",
   "execution_count": null,
   "metadata": {},
   "outputs": [],
   "source": [
    "# Finish cleaning data by dropping useless columns\n",
    "\n",
    "def drop_useless_columns(df):\n",
    "    # Drop columns that are not needed\n",
    "    drop_list = ['AREA_TYPE', 'NAICS', 'NAICS_TITLE', 'I_GROUP', 'OWN_CODE', 'OCC_CODE', 'PCT_TOTAL', 'PCT_RPT', 'PRIM_STATE', 'AREA']\n",
    "    # OCC_CODE is the same as OCC_TITLE, PCT_TOTAL and PCT_RPT is always NaN, PRIM_STATE is in AREA_TITLE, AREA is same as AREA_TITLE, others cause issues\n",
    "    for column in drop_list:\n",
    "        if column in df.columns:\n",
    "            df.drop(columns=[column], inplace=True)\n",
    "    df.dropna(axis=1, how='all')\n",
    "    return df\n",
    "\n",
    "def drop_all_useless_columns(processed_csv_path):\n",
    "    for file in os.listdir(processed_csv_path):\n",
    "        if file.endswith('.csv'):\n",
    "            file_path = os.path.join(processed_csv_path, file)\n",
    "            df = pd.read_csv(file_path)\n",
    "            out_df = drop_useless_columns(df)\n",
    "            out_df.to_csv(os.path.join('bls_data/useful_csvs', file), index=False)\n",
    "\n",
    "drop_all_useless_columns('bls_data/full_processed_csvs')"
   ]
  },
  {
   "cell_type": "code",
   "execution_count": null,
   "metadata": {},
   "outputs": [],
   "source": [
    "# Test to check if all years have the same columns and if all areas are represented\n",
    "\n",
    "def test_csvs(useful_csv_path):\n",
    "    reference_columns = None\n",
    "    reference_area_titles = None\n",
    "    for file in os.listdir(useful_csv_path):\n",
    "        if file.endswith('.csv'):\n",
    "            file_path = os.path.join(useful_csv_path, file)\n",
    "            df = pd.read_csv(file_path)\n",
    "            if reference_columns is None:\n",
    "                reference_columns = set(df.columns)\n",
    "            else:\n",
    "                if set(df.columns) != reference_columns:\n",
    "                    print(f\"Warning: Columns in {file} do not match the reference columns.\")\n",
    "            if reference_area_titles is None:\n",
    "                reference_area_titles = set(df['AREA_TITLE'].unique())\n",
    "            else:\n",
    "                if set(df['AREA_TITLE'].unique()) != reference_area_titles:\n",
    "                    print(f\"Warning: Areas in {file} do not match the reference areas.\")\n",
    "            unique_area_titles = df['AREA_TITLE'].nunique()\n",
    "            if unique_area_titles != 8:\n",
    "                print(f\"Warning: {file} does not have all 8 areas represented.\")\n",
    "            "
   ]
  },
  {
   "cell_type": "code",
   "execution_count": null,
   "metadata": {},
   "outputs": [],
   "source": [
    "# Combine all years into one csv\n",
    "\n",
    "def combine_years(useful_csv_path):\n",
    "    combined_df = pd.DataFrame()\n",
    "    for file in os.listdir(useful_csv_path):\n",
    "        if file.endswith('.csv') and file != 'all_years.csv':\n",
    "            file_path = os.path.join(useful_csv_path, file)\n",
    "            df = pd.read_csv(file_path)\n",
    "            year = int(file.split('_')[0])\n",
    "            df['YEAR'] = year\n",
    "            combined_df = pd.concat([combined_df, df], ignore_index=True)\n",
    "    combined_df.dropna(axis=1, how='all')\n",
    "    column_order = ['YEAR', 'AREA_TITLE', 'OCC_TITLE', 'OCC_GROUP', 'TOT_EMP', 'EMP_PRSE', 'JOBS_1000', 'LOC_QUOTIENT', 'H_MEAN', 'A_MEAN', 'MEAN_PRSE', \n",
    "    'H_PCT10', 'H_PCT25', 'H_MEDIAN', 'H_PCT75', 'H_PCT90', 'A_PCT10', 'A_PCT25', 'A_MEDIAN', 'A_PCT75', 'A_PCT90', 'ANNUAL', 'HOURLY']\n",
    "    combined_df = combined_df[column_order]\n",
    "    combined_df = combined_df.sort_values(by=['YEAR', 'AREA_TITLE'], ascending=[True, True], kind='mergesort')\n",
    "    combined_df.to_csv('bls_data/useful_csvs/all_years.csv', index=False)\n",
    "\n",
    "combine_years('bls_data/useful_csvs')"
   ]
  },
  {
   "cell_type": "code",
   "execution_count": null,
   "metadata": {},
   "outputs": [],
   "source": [
    "df = pd.read_csv('bls_data/useful_csvs/all_years.csv')\n",
    "df.shape"
   ]
  },
  {
   "cell_type": "markdown",
   "metadata": {},
   "source": [
    "## CDS"
   ]
  },
  {
   "cell_type": "code",
   "execution_count": null,
   "metadata": {},
   "outputs": [],
   "source": [
    "# import libraries\n",
    "\n",
    "import pdfplumber\n",
    "import pandas as pd\n",
    "import numpy as np\n",
    "import os"
   ]
  },
  {
   "cell_type": "code",
   "execution_count": null,
   "metadata": {},
   "outputs": [],
   "source": [
    "# Pull degrees conferred tables from CDS PDFs\n",
    "\n",
    "def extract_table_from_pdf(pdf_path, pdf_name, full_processed_csvs_folder):\n",
    "    df_results = pd.DataFrame()\n",
    "    print(f\"Processing file {pdf_name}\")\n",
    "    with pdfplumber.open(pdf_path) as pdf:\n",
    "        # Iterate over the pages in the PDF\n",
    "        for page_num, page in enumerate(pdf.pages, start=1):\n",
    "            # Extract text content from the page\n",
    "            text = page.extract_text()\n",
    "            # Check if \"degrees conferred\" exists in the page text (case insensitive)\n",
    "            if \"degrees conferred\" in text.lower():\n",
    "                print(f\"Found 'degrees conferred' on page {page_num}. Extracting table...\")\n",
    "                tables = page.extract_tables()\n",
    "                for table in tables:\n",
    "                    df = pd.DataFrame(table[1:], columns=table[0])\n",
    "                    df.columns = df.columns.str.replace('\\n', ' ', regex=True)\n",
    "                    df_results = pd.concat([df_results, df], ignore_index=True)\n",
    "                special_cases = [\"ucsd_2023\", \"wsu_2023\"]\n",
    "                extra_special_cases = [\"caltech_2021\", \"caltech_2022\", \"caltech_2023\", \"asu_2021\", \"asu_2022\", \"asu_2023\"]\n",
    "                if pdf_name in special_cases : # handle special case where table is split across two pages on a case-by-case basis\n",
    "                    next_page = pdf.pages[page_num]\n",
    "                    next_tables = next_page.extract_tables()\n",
    "                    if next_tables:\n",
    "                        for table in next_tables:\n",
    "                            df = pd.DataFrame(table[1:], columns=table[0])\n",
    "                            top_row = df.columns\n",
    "                            df.columns = df_results.columns\n",
    "                            df.loc[-1] = top_row \n",
    "                            df.index = df.index + 1\n",
    "                            df = df.sort_index()\n",
    "                            df_results = pd.concat([df_results, df], ignore_index=True)\n",
    "                if pdf_name in extra_special_cases : # handle special case where table is split across two pages and the column names are on the second page\n",
    "                    next_page = pdf.pages[page_num]\n",
    "                    next_tables = next_page.extract_tables()\n",
    "                    if next_tables:\n",
    "                        for table in next_tables:\n",
    "                            df = pd.DataFrame(table[1:], columns=table[0])\n",
    "                            df_results = pd.concat([df_results, df], ignore_index=True)\n",
    "                break\n",
    "        if df_results.empty:\n",
    "            print(f\"'degrees conferred' not found in page {page_num}.\")\n",
    "\n",
    "    if not df_results.empty:\n",
    "        df_results = df_results.reset_index(drop=True)\n",
    "        year_directory = os.path.join(full_processed_csvs_folder, pdf_name.split(\"_\")[1])\n",
    "        if not os.path.exists(year_directory):\n",
    "            os.makedirs(year_directory)\n",
    "        file_name = os.path.join(year_directory, f\"{pdf_name}_degrees_conferred.csv\")\n",
    "        df_results.to_csv(file_name, index=False)\n",
    "        print(f\"Table saved to {file_name}.\")\n",
    "\n",
    "def extract_all_tables(cds_data_folder, full_processed_csvs_folder):\n",
    "    for college_folder in os.listdir(cds_data_folder):\n",
    "        if college_folder == \"full_processed_csvs\" or college_folder == \"useful_csvs\" or college_folder == \".DS_Store\" or college_folder == \"manual\":\n",
    "            continue\n",
    "        college_folder_path = os.path.join(cds_data_folder, college_folder)\n",
    "        for pdf_file in os.listdir(college_folder_path):\n",
    "            if pdf_file.endswith('.pdf'):\n",
    "                pdf_file_path = os.path.join(college_folder_path, pdf_file)\n",
    "                extract_table_from_pdf(pdf_file_path, pdf_file.split(\".\")[0], full_processed_csvs_folder)\n",
    "\n",
    "extract_all_tables(\"cds_data\", \"cds_data/full_processed_csvs\")"
   ]
  },
  {
   "cell_type": "code",
   "execution_count": null,
   "metadata": {},
   "outputs": [],
   "source": [
    "# Clean datasets by merging columns with similar names and combining data from different years\n",
    "\n",
    "def merge_column_names(file_path):\n",
    "    df = pd.read_csv(file_path)\n",
    "    if \"Diploma/ Certificates\" in df.columns:\n",
    "        df = df.rename(columns={\"Diploma/ Certificates\": \"Diploma/Certificates\"})\n",
    "    elif \"Diplomas / Certificates\" in df.columns:\n",
    "        df = df.rename(columns={\"Diplomas / Certificates\": \"Diploma/Certificates\"})\n",
    "    elif \"\\\"Diploma/\\nCertificates\\\"\" in df.columns:\n",
    "        df = df.rename(columns={\"\\\"Diploma/\\nCertificates\\\"\": \"Diploma/Certificates\"})\n",
    "    if \"CIP 2010 Categories to Include\" in df.columns:\n",
    "        df = df.rename(columns={\"CIP 2010 Categories to Include\": \"CIP Code\"})\n",
    "    elif \"CIP Code Number\" in df.columns:\n",
    "        df = df.rename(columns={\"CIP Code Number\": \"CIP Code\"})\n",
    "    elif \"CIP 2020 Categories to Include\" in df.columns:\n",
    "        df = df.rename(columns={\"CIP 2020 Categories to Include\": \"CIP Code\"})\n",
    "    elif \"CIP 2021 Categories to Include\" in df.columns:\n",
    "        df = df.rename(columns={\"CIP 2021 Categories to Include\": \"CIP Code\"})\n",
    "    elif \"CIP202 Categories to Include\" in df.columns:\n",
    "        df = df.rename(columns={\"CIP202 Categories to Include\": \"CIP Code\"})\n",
    "    elif \"\\\"CIP202\\nCategories\\nto\\nInclude\\\"\" in df.columns:\n",
    "        df = df.rename(columns={\"\\\"CIP202\\nCategories\\nto\\nInclude\\\"\": \"CIP Code\"})\n",
    "    if \"Category (UM-Ann Arbor grants Bachelor's degrees; no undergraduate Diploma/Certificates or Associate degrees)\" in df.columns:\n",
    "        df = df.rename(columns={\"Category (UM-Ann Arbor grants Bachelor's degrees; no undergraduate Diploma/Certificates or Associate degrees)\": \"Category\"})\n",
    "    if \"Unnamed: 2\" in df.columns:\n",
    "        df = df.rename(columns={\"Unnamed: 2\": \"Bachelor's\"})\n",
    "    if \"Bachelor’s degrees (First majors)\" in df.columns:\n",
    "        df = df.drop(columns=[\"Bachelor’s degrees (First majors)\"])\n",
    "    return df\n",
    "    \n",
    "def merge_all_column_names(full_processed_csvs_folder):\n",
    "    for year_folder in os.listdir(full_processed_csvs_folder):\n",
    "        if year_folder == \".DS_Store\" or year_folder == \"combined\":\n",
    "            continue\n",
    "        year_folder_path = os.path.join(full_processed_csvs_folder, year_folder)\n",
    "        for college_file in os.listdir(year_folder_path):\n",
    "            if college_file.endswith('.csv'):\n",
    "                college_file_path = os.path.join(year_folder_path, college_file)\n",
    "                df = merge_column_names(college_file_path)\n",
    "                df.to_csv(college_file_path, index=False)\n",
    "\n",
    "def combine_year_data(full_processed_csvs_folder):\n",
    "    for year_folder in os.listdir(full_processed_csvs_folder):\n",
    "        if year_folder == \".DS_Store\" or year_folder == \"combined\":\n",
    "            continue\n",
    "        year_folder_path = os.path.join(full_processed_csvs_folder, year_folder)\n",
    "        combined_df = pd.DataFrame()\n",
    "        for college_file in os.listdir(year_folder_path):\n",
    "            if college_file.endswith('.csv'):\n",
    "                college_file_path = os.path.join(year_folder_path, college_file)\n",
    "                df = pd.read_csv(college_file_path)\n",
    "                df[\"college\"] = college_file.split(\"_\")[0]\n",
    "                df[\"year\"] = year_folder\n",
    "                combined_df = pd.concat([combined_df, df], ignore_index=True)\n",
    "        combined_folder = \"cds_data/useful_csvs\"\n",
    "        if not os.path.exists(combined_folder):\n",
    "            os.makedirs(combined_folder)\n",
    "        combined_df.to_csv(os.path.join(combined_folder, f\"{year_folder}_combined.csv\"), index=False)\n",
    "\n",
    "merge_all_column_names(\"cds_data/full_processed_csvs\")\n",
    "combine_year_data(\"cds_data/full_processed_csvs\")"
   ]
  },
  {
   "cell_type": "code",
   "execution_count": null,
   "metadata": {},
   "outputs": [],
   "source": [
    "# Fix UMich data :///\n",
    "for combined_csv in os.listdir(\"cds_data/useful_csvs\"):\n",
    "    df = pd.read_csv(os.path.join(\"cds_data/useful_csvs\", combined_csv))\n",
    "    df.replace(\"--\", \"\", inplace=True)\n",
    "    if \"Bachelor's\" in df.columns:\n",
    "        df['Bachelor’s'] = df['Bachelor’s'].combine_first(df[\"Bachelor's\"])\n",
    "        df = df.drop(columns=[\"Bachelor's\"])\n",
    "    df.to_csv(os.path.join(\"cds_data/useful_csvs\", combined_csv), index=False)"
   ]
  },
  {
   "cell_type": "code",
   "execution_count": null,
   "metadata": {},
   "outputs": [],
   "source": [
    "# Combine data from different years into a single dataset\n",
    "\n",
    "def combine_years(useful_csv_path):\n",
    "    combined_df = pd.DataFrame()\n",
    "    for file in os.listdir(useful_csv_path):\n",
    "        if file.endswith('.csv') and file != 'all_years.csv':\n",
    "            file_path = os.path.join(useful_csv_path, file)\n",
    "            df = pd.read_csv(file_path)\n",
    "            combined_df = pd.concat([combined_df, df], ignore_index=True)\n",
    "    combined_df.dropna(axis=1, how='all')\n",
    "    column_order = ['year', 'college', 'CIP Code', 'Category', 'Bachelor’s', 'Associate', 'Diploma/Certificates']\n",
    "    combined_df = combined_df[column_order]\n",
    "    combined_df = combined_df.sort_values(by=['year', 'college'], ascending=[True, True], kind='mergesort')\n",
    "    combined_df.to_csv('cds_data/useful_csvs/all_years.csv', index=False)\n",
    "\n",
    "combine_years('cds_data/useful_csvs')"
   ]
  },
  {
   "cell_type": "code",
   "execution_count": null,
   "metadata": {},
   "outputs": [],
   "source": [
    "df = pd.read_csv('cds_data/useful_csvs/all_years.csv')\n",
    "df.shape"
   ]
  },
  {
   "cell_type": "markdown",
   "metadata": {},
   "source": [
    "# Ethics & Privacy"
   ]
  },
  {
   "cell_type": "markdown",
   "metadata": {},
   "source": [
    "The data we’ve chosen to look at for our research proposal was extracted from public datasets published by the Bureau of Labor Statistics database as well as the common dataset from institutional research at UCSD. Since both of the provided datasets are public, we have permission to utilize this data for our research analysis which ensures that there should be no privacy concerns with our dataset as we are not analyzing specific individual students within our analysis. Furthermore, scraping information or data from these public statistical sets indicates that our proposal prevents targeted harm towards any individual industry’s or college’s reputation. \n",
    "\n",
    "Since we are retrieving data from many different public datasets, there is a lower possibility of any major potential biases arising from our data. However, since our research primarily focuses on the top majors from each of the universities that were selected beforehand, opportunities for ranking and selection bias may emerge. The bias arising from the top selected major rankings can be overcome by drawing information out from diverse sources which reduces dependency on any specific dataset. We are also focusing specifically on undergraduate graduation rates, which might not reflect people who only attend community college without transferring to a 4-year institution, trade schools, or any other form of schooling, since they would also be entering the job market. The best way to address this is to specify that our findings are specifically for 4-year undergraduate students and at the specific colleges we select, since the selection may not be completely random.\n"
   ]
  },
  {
   "cell_type": "markdown",
   "metadata": {},
   "source": [
    "# Team Expectations "
   ]
  },
  {
   "cell_type": "markdown",
   "metadata": {},
   "source": [
    "1. Communicate as often as possible. If there are issues, reach out immediately instead of letting it bottle up. This goes for both technical and interpersonal issues.\n",
    "2. Do your best to contribute on time. If any issues arise, let your team know. If you’re running into issues, let everyone else know and we can all help out. \n",
    "    \n",
    "    Meetings will occur weekly (most likely on Wednesdays). Try to be present since this is the main time we can work on the project together and discuss the different parts we have done individually so everyone is on board!\n",
    "3. Split work responsibilities in a reasonable manner.\n",
    "    \n",
    "    Allow individuals to volunteer to take on a task, but also make sure that assignments are evenly split so that everyone can work on something. Discuss reassigning positions if it feels like somebody is taking on more than everyone else.\n"
   ]
  },
  {
   "cell_type": "markdown",
   "metadata": {},
   "source": [
    "# Project Timeline Proposal"
   ]
  },
  {
   "cell_type": "markdown",
   "metadata": {},
   "source": [
    "Specify your team's specific project timeline. An example timeline has been provided. Changes the dates, times, names, and details to fit your group's plan.\n",
    "\n",
    "If you think you will need any special resources or training outside what we have covered in COGS 108 to solve your problem, then your proposal should state these clearly. For example, if you have selected a problem that involves implementing multiple neural networks, please state this so we can make sure you know what you’re doing and so we can point you to resources you will need to implement your project. Note that you are not required to use outside methods.\n",
    "\n",
    "\n",
    "\n",
    "| Meeting Date  | Meeting Time| Completed Before Meeting  | Discuss at Meeting |\n",
    "|---|---|---|---|\n",
    "| 10/27  |  6 PM | Created group to begin process.  | Created document for COGS 108 Project and started discussion. | \n",
    "| 10/30  |  4 PM |  Continued discussing and brainstorming ideas for project. | Finished project proposal. | \n",
    "| 11/6  | 4 PM | Finalize datasets used.  | Discuss Wrangling and possible analytical approaches; Assign group members to lead each specific part   |\n",
    "| 11/13  | 5 PM  | Begin analysis by importing data and wrangling/cleaning data set. | Review/Edit datasets; Discuss analysis plan and proposed graphs  |\n",
    "| 11/20  | 4 PM  | Finalize datasets; Begin analysis | Discuss/edit Analysis; Complete project check-in |\n",
    "| 12/04  | 4 PM  | Complete analysis; Draft results/conclusion/discussion | Discuss/edit full project |\n",
    "| 12/11  | Before 11:59 PM  | NA | Turn in Final Project & Group Project Surveys |"
   ]
  }
 ],
 "metadata": {
  "kernelspec": {
   "display_name": "Python 3 (ipykernel)",
   "language": "python",
   "name": "python3"
  },
  "language_info": {
   "codemirror_mode": {
    "name": "ipython",
    "version": 3
   },
   "file_extension": ".py",
   "mimetype": "text/x-python",
   "name": "python",
   "nbconvert_exporter": "python",
   "pygments_lexer": "ipython3",
   "version": "3.9.7"
  }
 },
 "nbformat": 4,
 "nbformat_minor": 2
}
