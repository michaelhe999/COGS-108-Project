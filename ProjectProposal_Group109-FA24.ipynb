{
 "cells": [
  {
   "cell_type": "markdown",
   "metadata": {},
   "source": [
    "# COGS 108 - Project Proposal"
   ]
  },
  {
   "cell_type": "markdown",
   "metadata": {},
   "source": [
    "# Names\n",
    "\n",
    "- Michael He\n",
    "- Felicia Zhang\n",
    "- Dhiren Patel\n",
    "- Sarah Li"
   ]
  },
  {
   "cell_type": "markdown",
   "metadata": {},
   "source": [
    "# Research Question"
   ]
  },
  {
   "cell_type": "markdown",
   "metadata": {},
   "source": [
    "Do national and local job market trends influence the selection of majors among undergraduate students at UCSD and other selected universities across the nation? \n",
    "\n",
    "\n"
   ]
  },
  {
   "cell_type": "markdown",
   "metadata": {},
   "source": [
    "## Background and Prior Work"
   ]
  },
  {
   "cell_type": "markdown",
   "metadata": {},
   "source": [
    "It can easily be stated that people go to college in order to get a job after graduation. Since the major that students graduate with affect the industry they can work in after graduation, it seems like a natural assumption that the job market has some effect on what subject students choose to major in. \n",
    "\n",
    "Research has been done on similar topics; Baker et. al posits that community college graduates are about 1.5% more likely to choose a major that corresponds with a 1% increase in salary <a name=\"cite_ref-1\"></a>[<sup>1</sup>](#cite_note-1). Utilizing logit models to estimate the probabilities of different major selections and Ordinary Least Squares to model the relationship between major choice, employment security, and salary expectations, the paper concludes that community college students have less access to accurate job market information, and thus mostly consider course enjoyment, while barely considering employment probability. \n",
    "\n",
    "Similarly, Long et. al find that college majors are most strongly tied to salaries from 3 years before graduation (when most students have to choose their major) <a name=\"cite_ref-2\"></a>[<sup>2</sup>](#cite_note-2). Their analysis covered both national and state (Washington) wage and major trends, using regression models to estimate the association between major choice and wage rates from a few years ago. They also used Granger causality tests to measure if previous data on wages were predictive of major choice. \n",
    "\n",
    "Despite there being a lot of research tying the job market to student major choices, we found little research analyzing the effects of employment rates in various industry sectors on major choice. We also aim to analyze a wider range of factors, covering different university locations and university types (public vs. private). This is because we’ve seen some research show that location affects college education, but not necessarily the major distributions at those locations <a name=\"cite_ref-3\"></a>[<sup>3</sup>](#cite_note-3). While we have seen that the job market has significant influence on major choices, we aim to discover the timeframe between the job market and major effects, as well as if the local or national job market has more influence.\n",
    "\n",
    "1. <a name=\"cite_note-1\"></a> [1](#cite_ref-1) Baker, Rachel, et al. The Effect of Labor Market Information on Community College Students’ Major Choice, ScienceDirect, Aug. 2018, [edpolicy.umich.edu/sites/epi/files/uploads/02-2017-labor-market-major-choice.pdf](https://edpolicy.umich.edu/sites/epi/files/uploads/02-2017-labor-market-major-choice.pdf)\n",
    "2. <a name=\"cite_note-2\"></a> [2](#cite_ref-2) Long et. al Do Students’ College Major Choices Respond to Changes in Wages, Calder Center, January 2014, [https://caldercenter.org/sites/default/files/WP-107.pdf](https://caldercenter.org/sites/default/files/WP-107.pdf)\n",
    "3. <a name=\"cite_note-3\"></a> [3](#cite_ref-3) Higdon, Why does college location matter, April 2017, [https://www.northcentral.edu/blog/why-does-college-location-matter/](https://www.northcentral.edu/blog/why-does-college-location-matter/)\n"
   ]
  },
  {
   "cell_type": "markdown",
   "metadata": {},
   "source": [
    "# Hypothesis\n"
   ]
  },
  {
   "cell_type": "markdown",
   "metadata": {},
   "source": [
    "\n",
    "We predict that there will be a correlation between undergraduate major choices and job market trends. We also predict that the strongest correlation will be between undergraduate major choices and the job market trends from four years ago (when these students were first entering college). This is because we believe that students who enter college have a goal of getting a job, and thus choose their majors (generally in their first two years of study) with the job market in mind. Because the job market at the time of their decision influences the major choice and it then takes students several more years to graduate, we also believe that there will be a correlation between the job market of several years before the current year, since the job market moves “ahead” of students’ major choices.\n"
   ]
  },
  {
   "cell_type": "markdown",
   "metadata": {},
   "source": [
    "# Data"
   ]
  },
  {
   "cell_type": "markdown",
   "metadata": {},
   "source": [
    "For our question, we would ideally have two datasets: one that analyzes major data and another that analyzes job data. For the major data, the dataset would ideally have variables including the graduate’s major (which would be standardized across colleges regardless of their actual major name) and graduation year. For the job data, the dataset would ideally have variables including the job field (which would, ideally, correlate exactly with the majors in the major dataset), year the data was taken, and have separate datasets per location (that would ideally correlate exactly with the areas of the colleges we choose to investigate). This data would also be as encompassing as possible, such as including every single student, every single job, and every single location.\n",
    "\n",
    "Luckily, much of this data is actually public! For major data, most colleges (including UCSD) publish a Common Data Set (CDS) every year ([UCSD CDS](https://ir.ucsd.edu/stats/undergrad/common-data-set.html) stretches back to 2005-06), which includes a table of all conferred degrees and the percentage conferred for each major, which would allow us to find the number of graduating majors per year for various colleges. Another available dataset is the [IPEDS data](https://nces.ed.gov/ipeds/use-the-data/download-access-database) from the National Center for Education Statistics, which includes enrollment by major.\n",
    "\n",
    "For job data, the Bureau of Labor Statistics publishes job data for the United States, including [this dataset](https://www.bls.gov/emp/tables/employment-by-major-industry-sector.htm). This dataset, however, only has data from 2023 specifically and would require us to do a little more digging to find data from past years. These datasets include job employment by major industry sectors, which would also require us to correlate college majors with these job sectors. "
   ]
  },
  {
   "cell_type": "markdown",
   "metadata": {},
   "source": [
    "# Ethics & Privacy"
   ]
  },
  {
   "cell_type": "markdown",
   "metadata": {},
   "source": [
    "The data we’ve chosen to look at for our research proposal was extracted from public datasets published by the Bureau of Labor Statistics database as well as the common dataset from institutional research at UCSD. Since both of the provided datasets are public, we have permission to utilize this data for our research analysis which ensures that there should be no privacy concerns with our dataset as we are not analyzing specific individual students within our analysis. Furthermore, scraping information or data from these public statistical sets indicates that our proposal prevents targeted harm towards any individual industry’s or college’s reputation. \n",
    "\n",
    "Since we are retrieving data from many different public datasets, there is a lower possibility of any major potential biases arising from our data. However, since our research primarily focuses on the top majors from each of the universities that were selected beforehand, opportunities for ranking and selection bias may emerge. The bias arising from the top selected major rankings can be overcome by drawing information out from diverse sources which reduces dependency on any specific dataset. We are also focusing specifically on undergraduate graduation rates, which might not reflect people who only attend community college without transferring to a 4-year institution, trade schools, or any other form of schooling, since they would also be entering the job market. The best way to address this is to specify that our findings are specifically for 4-year undergraduate students and at the specific colleges we select, since the selection may not be completely random.\n"
   ]
  },
  {
   "cell_type": "markdown",
   "metadata": {},
   "source": [
    "# Team Expectations "
   ]
  },
  {
   "cell_type": "markdown",
   "metadata": {},
   "source": [
    "\n",
    "Read over the [COGS108 Team Policies](https://github.com/COGS108/Projects/blob/master/COGS108_TeamPolicies.md) individually. Then, include your group’s expectations of one another for successful completion of your COGS108 project below. Discuss and agree on what all of your expectations are. Discuss how your team will communicate throughout the quarter and consider how you will communicate respectfully should conflicts arise. By including each member’s name above and by adding their name to the submission, you are indicating that you have read the COGS108 Team Policies, accept your team’s expectations below, and have every intention to fulfill them. These expectations are for your team’s use and benefit — they won’t be graded for their details.\n",
    "\n",
    "* *Team Expectation 1*\n",
    "* *Team Expectation 2*\n",
    "* *Team Expecation 3*\n",
    "* ..."
   ]
  },
  {
   "cell_type": "markdown",
   "metadata": {},
   "source": [
    "# Project Timeline Proposal"
   ]
  },
  {
   "cell_type": "markdown",
   "metadata": {},
   "source": [
    "Specify your team's specific project timeline. An example timeline has been provided. Changes the dates, times, names, and details to fit your group's plan.\n",
    "\n",
    "If you think you will need any special resources or training outside what we have covered in COGS 108 to solve your problem, then your proposal should state these clearly. For example, if you have selected a problem that involves implementing multiple neural networks, please state this so we can make sure you know what you’re doing and so we can point you to resources you will need to implement your project. Note that you are not required to use outside methods.\n",
    "\n",
    "\n",
    "\n",
    "| Meeting Date  | Meeting Time| Completed Before Meeting  | Discuss at Meeting |\n",
    "|---|---|---|---|\n",
    "| 1/20  |  1 PM | Read & Think about COGS 108 expectations; brainstorm topics/questions  | Determine best form of communication; Discuss and decide on final project topic; discuss hypothesis; begin background research | \n",
    "| 1/26  |  10 AM |  Do background research on topic | Discuss ideal dataset(s) and ethics; draft project proposal | \n",
    "| 2/1  | 10 AM  | Edit, finalize, and submit proposal; Search for datasets  | Discuss Wrangling and possible analytical approaches; Assign group members to lead each specific part   |\n",
    "| 2/14  | 6 PM  | Import & Wrangle Data (Ant Man); EDA (Hulk) | Review/Edit wrangling/EDA; Discuss Analysis Plan   |\n",
    "| 2/23  | 12 PM  | Finalize wrangling/EDA; Begin Analysis (Iron Man; Thor) | Discuss/edit Analysis; Complete project check-in |\n",
    "| 3/13  | 12 PM  | Complete analysis; Draft results/conclusion/discussion (Wasp)| Discuss/edit full project |\n",
    "| 3/20  | Before 11:59 PM  | NA | Turn in Final Project & Group Project Surveys |"
   ]
  }
 ],
 "metadata": {
  "kernelspec": {
   "display_name": "Python 3 (ipykernel)",
   "language": "python",
   "name": "python3"
  },
  "language_info": {
   "codemirror_mode": {
    "name": "ipython",
    "version": 3
   },
   "file_extension": ".py",
   "mimetype": "text/x-python",
   "name": "python",
   "nbconvert_exporter": "python",
   "pygments_lexer": "ipython3",
   "version": "3.9.7"
  }
 },
 "nbformat": 4,
 "nbformat_minor": 2
}
